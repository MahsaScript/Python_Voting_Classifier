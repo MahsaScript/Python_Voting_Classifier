{
  "cells": [
    {
      "cell_type": "markdown",
      "id": "df2f230e",
      "metadata": {
        "papermill": {
          "duration": 0.025923,
          "end_time": "2023-02-07T14:31:03.848581",
          "exception": false,
          "start_time": "2023-02-07T14:31:03.822658",
          "status": "completed"
        },
        "tags": [],
        "id": "df2f230e"
      },
      "source": [
        "# Voting Classifier - Combine Your ML Models for Better Results"
      ]
    },
    {
      "cell_type": "markdown",
      "id": "fee97ac7",
      "metadata": {
        "papermill": {
          "duration": 0.02908,
          "end_time": "2023-02-07T14:31:03.898090",
          "exception": false,
          "start_time": "2023-02-07T14:31:03.869010",
          "status": "completed"
        },
        "tags": [],
        "id": "fee97ac7"
      },
      "source": [
        "![vote.jpg](attachment:5b1370e0-fbf3-4558-aa85-0646c7d4d24e.jpg)"
      ]
    },
    {
      "cell_type": "code",
      "execution_count": null,
      "id": "52d96617",
      "metadata": {
        "execution": {
          "iopub.execute_input": "2023-02-07T14:31:03.952695Z",
          "iopub.status.busy": "2023-02-07T14:31:03.952189Z",
          "iopub.status.idle": "2023-02-07T14:31:05.190014Z",
          "shell.execute_reply": "2023-02-07T14:31:05.188712Z"
        },
        "papermill": {
          "duration": 1.271418,
          "end_time": "2023-02-07T14:31:05.193902",
          "exception": false,
          "start_time": "2023-02-07T14:31:03.922484",
          "status": "completed"
        },
        "tags": [],
        "id": "52d96617"
      },
      "outputs": [],
      "source": [
        "from matplotlib import pyplot as plt\n",
        "import seaborn as sns"
      ]
    },
    {
      "cell_type": "markdown",
      "id": "82e0e275",
      "metadata": {
        "papermill": {
          "duration": 0.019882,
          "end_time": "2023-02-07T14:31:05.234238",
          "exception": false,
          "start_time": "2023-02-07T14:31:05.214356",
          "status": "completed"
        },
        "tags": [],
        "id": "82e0e275"
      },
      "source": [
        "# Table of Contents\n",
        "\n",
        "<a id=\"toc\"></a>\n",
        "- [1. Introduction](#1)\n",
        "    - [1.1 Hard voting](#1.1)\n",
        "    - [1.2 Weighted Majority Voting](#1.2)\n",
        "    - [1.3 Soft Voting](#1.3)\n",
        "- [2. Set-up](#2)\n",
        "    - [2.1 Import Libraries](#2.1)\n",
        "    - [2.2 Import Data](#2.2)\n",
        "    - [2.3 Data Set Characteristics](#2.3)\n",
        "    - [2.4 Dataset Attributes](#2.4)\n",
        "- [3. Data pre-processing](#3)\n",
        "    - [3.1 Data imbalance check](#3.1)\n",
        "    - [3.2 Checking for outliers](#3.2)\n",
        "    - [3.3 Inter Quartile Range (IQR)](#3.3)\n",
        "    - [3.4 Dropping outliers](#3.4)\n",
        "    - [3.5 Creating dummies](#3.5)\n",
        "    - [3.6 Train test split](#3.6)\n",
        "    - [3.7 Feature scaling](#3.7)\n",
        "- [4. Model selection](#4)\n",
        "- [5. Voting Classifier with hard voting](#5)\n",
        "    - [5.1 Classification report](#5.1)\n",
        "    - [5.2 Confusion matrix](#5.2)\n",
        "    - [5.3 K-Fold Cross-validation](#5.3)\n",
        "- [6. Voting Classifier with soft voting](#6)\n",
        "    - [6.1 Classification report](#6.1)\n",
        "    - [6.2 Confusion matrix](#6.2)\n",
        "    - [6.3 K-Fold Cross-validation](#6.3)\n",
        "- [7. Result comparison](#7)\n",
        "- [8. AUC-ROC Curve for Voting Classifier with soft voting](#8)\n",
        "- [9. Precision-Recall Curve (PR curve) for Voting Classifier with soft voting](#9)\n",
        "- [10. My other notebooks](#10)\n",
        "- [11. References](#11)"
      ]
    },
    {
      "cell_type": "markdown",
      "id": "e20c9695",
      "metadata": {
        "papermill": {
          "duration": 0.021585,
          "end_time": "2023-02-07T14:31:05.277259",
          "exception": false,
          "start_time": "2023-02-07T14:31:05.255674",
          "status": "completed"
        },
        "tags": [],
        "id": "e20c9695"
      },
      "source": [
        "<a id=\"1\"></a>\n",
        "# 1. Introduction"
      ]
    },
    {
      "cell_type": "markdown",
      "id": "26c93c18",
      "metadata": {
        "papermill": {
          "duration": 0.021037,
          "end_time": "2023-02-07T14:31:05.321282",
          "exception": false,
          "start_time": "2023-02-07T14:31:05.300245",
          "status": "completed"
        },
        "tags": [],
        "id": "26c93c18"
      },
      "source": [
        "The voting classifier is an ensemble learning method that combines several base models to produce the final optimum solution. We create a single model which trains by these models and predicts output based on their combined majority of voting for each output class.\n",
        "\n",
        "The algorithm aggregates the results of each classifier passed into Voting Classifier and predicts the output class based on the highest majority of voting.\n",
        "\n",
        "Since voting relies on the performance of many models, they will not be affected by large errors or misclassifications from one model. In other words poor performance from one model can be offset by a strong performance from other models."
      ]
    },
    {
      "cell_type": "markdown",
      "id": "4ce5ca8c",
      "metadata": {
        "papermill": {
          "duration": 0.020834,
          "end_time": "2023-02-07T14:31:05.363779",
          "exception": false,
          "start_time": "2023-02-07T14:31:05.342945",
          "status": "completed"
        },
        "tags": [],
        "id": "4ce5ca8c"
      },
      "source": [
        "<a id=\"1.1\"></a>\n",
        "## 1.1 Hard voting"
      ]
    },
    {
      "cell_type": "markdown",
      "id": "b2d10c03",
      "metadata": {
        "papermill": {
          "duration": 0.02113,
          "end_time": "2023-02-07T14:31:05.407049",
          "exception": false,
          "start_time": "2023-02-07T14:31:05.385919",
          "status": "completed"
        },
        "tags": [],
        "id": "b2d10c03"
      },
      "source": [
        "Hard voting (also known as majority voting). The models predict the output class independent of each other. The output class is a class with the highest majority of votes.\n",
        "\n",
        "Suppose three classifiers predicted the output class(A, A, B), so the majority predicted A as an output. Therefore A will be the final prediction."
      ]
    },
    {
      "cell_type": "markdown",
      "id": "9cd7fe9c",
      "metadata": {
        "papermill": {
          "duration": 0.021016,
          "end_time": "2023-02-07T14:31:05.449557",
          "exception": false,
          "start_time": "2023-02-07T14:31:05.428541",
          "status": "completed"
        },
        "tags": [],
        "id": "9cd7fe9c"
      },
      "source": [
        "![majority_voting.png](attachment:79a18920-42f2-4574-a3b2-e09b5e64ec6f.png)"
      ]
    },
    {
      "cell_type": "markdown",
      "id": "0a6b8361",
      "metadata": {
        "papermill": {
          "duration": 0.021188,
          "end_time": "2023-02-07T14:31:05.491776",
          "exception": false,
          "start_time": "2023-02-07T14:31:05.470588",
          "status": "completed"
        },
        "tags": [],
        "id": "0a6b8361"
      },
      "source": [
        "<a id=\"1.2\"></a>\n",
        "# 1.2 Weighted Majority Voting"
      ]
    },
    {
      "cell_type": "markdown",
      "id": "ffc5e481",
      "metadata": {
        "papermill": {
          "duration": 0.020527,
          "end_time": "2023-02-07T14:31:05.534640",
          "exception": false,
          "start_time": "2023-02-07T14:31:05.514113",
          "status": "completed"
        },
        "tags": [],
        "id": "ffc5e481"
      },
      "source": [
        "In addition to the simple majority vote (hard voting) as described in the previous section, we can compute a weighted majority vote by associating a weight w with classifier C."
      ]
    },
    {
      "cell_type": "markdown",
      "id": "1d6172e7",
      "metadata": {
        "papermill": {
          "duration": 0.020065,
          "end_time": "2023-02-07T14:31:05.575713",
          "exception": false,
          "start_time": "2023-02-07T14:31:05.555648",
          "status": "completed"
        },
        "tags": [],
        "id": "1d6172e7"
      },
      "source": [
        "<a id=\"1.3\"></a>\n",
        "## 1.3 Soft Voting"
      ]
    },
    {
      "cell_type": "markdown",
      "id": "976a9e05",
      "metadata": {
        "papermill": {
          "duration": 0.022286,
          "end_time": "2023-02-07T14:31:05.618720",
          "exception": false,
          "start_time": "2023-02-07T14:31:05.596434",
          "status": "completed"
        },
        "tags": [],
        "id": "976a9e05"
      },
      "source": [
        "In soft voting, the output class is the prediction based on the average of probability given to that class. Soft voting entails combining the probabilities of each prediction in each model and picking the prediction with the highest total probability.\n",
        "\n",
        "Each base model classifier independently assigns the probability of occurrence of each type. In the end, the average of the possibilities of each class is calculated, and the final output is the class having the highest probability.\n",
        "\n",
        "Suppose given some input to three models, the prediction probability for class A = (0.30, 0.47, 0.53) and B = (0.20, 0.32, 0.40). So the average for class A is 0.4333 and B is 0.3067, the winner is clearly class A because it had the highest probability averaged by each classifier."
      ]
    },
    {
      "cell_type": "markdown",
      "id": "69ce51eb",
      "metadata": {
        "papermill": {
          "duration": 0.020293,
          "end_time": "2023-02-07T14:31:05.661011",
          "exception": false,
          "start_time": "2023-02-07T14:31:05.640718",
          "status": "completed"
        },
        "tags": [],
        "id": "69ce51eb"
      },
      "source": [
        "![soft.png](attachment:b041812a-bbeb-4754-865f-6fe80cb8d680.png)"
      ]
    },
    {
      "cell_type": "markdown",
      "id": "2da11aa7",
      "metadata": {
        "papermill": {
          "duration": 0.017277,
          "end_time": "2023-02-07T14:31:05.696918",
          "exception": false,
          "start_time": "2023-02-07T14:31:05.679641",
          "status": "completed"
        },
        "tags": [],
        "id": "2da11aa7"
      },
      "source": [
        "<a id=\"2\"></a>\n",
        "# 2. Set-up"
      ]
    },
    {
      "cell_type": "markdown",
      "id": "f6f82501",
      "metadata": {
        "papermill": {
          "duration": 0.017514,
          "end_time": "2023-02-07T14:31:05.732056",
          "exception": false,
          "start_time": "2023-02-07T14:31:05.714542",
          "status": "completed"
        },
        "tags": [],
        "id": "f6f82501"
      },
      "source": [
        "<a id=\"2.1\"></a>\n",
        "## 2.1 Import Libraries"
      ]
    },
    {
      "cell_type": "code",
      "execution_count": null,
      "id": "ad7144c7",
      "metadata": {
        "execution": {
          "iopub.execute_input": "2023-02-07T14:31:05.771331Z",
          "iopub.status.busy": "2023-02-07T14:31:05.770296Z",
          "iopub.status.idle": "2023-02-07T14:31:07.368247Z",
          "shell.execute_reply": "2023-02-07T14:31:07.367154Z"
        },
        "papermill": {
          "duration": 1.620751,
          "end_time": "2023-02-07T14:31:07.371368",
          "exception": false,
          "start_time": "2023-02-07T14:31:05.750617",
          "status": "completed"
        },
        "tags": [],
        "id": "ad7144c7"
      },
      "outputs": [],
      "source": [
        "import numpy as np\n",
        "import pandas as pd\n",
        "import seaborn as sns\n",
        "import plotly.express as px\n",
        "from matplotlib import pyplot as plt\n",
        "from sklearn.model_selection import cross_val_score\n",
        "from collections import Counter"
      ]
    },
    {
      "cell_type": "markdown",
      "id": "7292b082",
      "metadata": {
        "papermill": {
          "duration": 0.021165,
          "end_time": "2023-02-07T14:31:07.415373",
          "exception": false,
          "start_time": "2023-02-07T14:31:07.394208",
          "status": "completed"
        },
        "tags": [],
        "id": "7292b082"
      },
      "source": [
        "<a id=\"2.2\"></a>\n",
        "## 2.2 Import Data"
      ]
    },
    {
      "cell_type": "code",
      "execution_count": null,
      "id": "b14ebd59",
      "metadata": {
        "execution": {
          "iopub.execute_input": "2023-02-07T14:31:07.459354Z",
          "iopub.status.busy": "2023-02-07T14:31:07.458558Z",
          "iopub.status.idle": "2023-02-07T14:31:07.498789Z",
          "shell.execute_reply": "2023-02-07T14:31:07.497252Z"
        },
        "papermill": {
          "duration": 0.065989,
          "end_time": "2023-02-07T14:31:07.502262",
          "exception": false,
          "start_time": "2023-02-07T14:31:07.436273",
          "status": "completed"
        },
        "tags": [],
        "id": "b14ebd59"
      },
      "outputs": [],
      "source": [
        "try:\n",
        "    raw_df = pd.read_csv('../input/heart-failure-prediction/heart.csv')\n",
        "except:\n",
        "    raw_df = pd.read_csv('heart.csv')"
      ]
    },
    {
      "cell_type": "markdown",
      "id": "97823bd3",
      "metadata": {
        "papermill": {
          "duration": 0.019578,
          "end_time": "2023-02-07T14:31:07.543537",
          "exception": false,
          "start_time": "2023-02-07T14:31:07.523959",
          "status": "completed"
        },
        "tags": [],
        "id": "97823bd3"
      },
      "source": [
        "<a id=\"2.3\"></a>\n",
        "## 2.3 Data Set Characteristics"
      ]
    },
    {
      "cell_type": "markdown",
      "id": "17eb598a",
      "metadata": {
        "papermill": {
          "duration": 0.019963,
          "end_time": "2023-02-07T14:31:07.583805",
          "exception": false,
          "start_time": "2023-02-07T14:31:07.563842",
          "status": "completed"
        },
        "tags": [],
        "id": "17eb598a"
      },
      "source": [
        "Cardiovascular diseases (CVDs) are the number 1 cause of death globally, taking an estimated 17.9 million lives each year, which accounts for 31% of all deaths worldwide. Four out of 5CVD deaths are due to heart attacks and strokes, and one-third of these deaths occur prematurely in people under 70 years of age. Heart failure is a common event caused by CVDs and this dataset contains 11 features that can be used to predict a possible heart disease.\n",
        "\n",
        "People with cardiovascular disease or who are at high cardiovascular risk (due to the presence of one or more risk factors such as hypertension, diabetes, hyperlipidaemia or already established disease) need early detection and management wherein a machine learning model can be of great help.\n",
        "\n",
        "**There are no duplicates and no missing values in dataset**.\n",
        "\n",
        "https://www.kaggle.com/datasets/fedesoriano/heart-failure-prediction"
      ]
    },
    {
      "cell_type": "markdown",
      "id": "5bda2c51",
      "metadata": {
        "papermill": {
          "duration": 0.019648,
          "end_time": "2023-02-07T14:31:07.623962",
          "exception": false,
          "start_time": "2023-02-07T14:31:07.604314",
          "status": "completed"
        },
        "tags": [],
        "id": "5bda2c51"
      },
      "source": [
        "<a id=\"2.4\"></a>\n",
        "## 2.4 Dataset Attributes\n",
        "    \n",
        "- **Age** : age of the patient [years]\n",
        "- **Sex** : sex of the patient [M: Male, F: Female]\n",
        "- **ChestPainType** : chest pain type [TA: Typical Angina, ATA: Atypical Angina, NAP: Non-Anginal Pain, ASY: Asymptomatic]\n",
        "- **RestingBP** : resting blood pressure [mm Hg]\n",
        "- **Cholesterol** : serum cholesterol [mm/dl]\n",
        "- **FastingBS** : fasting blood sugar [1: if FastingBS > 120 mg/dl, 0: otherwise]\n",
        "- **RestingECG** : resting electrocardiogram results [Normal: Normal, ST: having ST-T wave abnormality (T wave inversions and/or ST elevation or depression of > 0.05 mV), LVH: showing probable or definite left ventricular hypertrophy by Estes' criteria]\n",
        "- **MaxHR** : maximum heart rate achieved [Numeric value between 60 and 202]\n",
        "- **ExerciseAngina** : exercise-induced angina [Y: Yes, N: No]\n",
        "- **Oldpeak** : oldpeak = ST [Numeric value measured in depression]\n",
        "- **ST_Slope** : the slope of the peak exercise ST segment [Up: upsloping, Flat: flat, Down: downsloping]\n",
        "- **HeartDisease** : output class [1: heart disease, 0: Normal]"
      ]
    },
    {
      "cell_type": "code",
      "execution_count": null,
      "id": "615e8639",
      "metadata": {
        "execution": {
          "iopub.execute_input": "2023-02-07T14:31:07.668994Z",
          "iopub.status.busy": "2023-02-07T14:31:07.668123Z",
          "iopub.status.idle": "2023-02-07T14:31:07.694524Z",
          "shell.execute_reply": "2023-02-07T14:31:07.693290Z"
        },
        "papermill": {
          "duration": 0.053046,
          "end_time": "2023-02-07T14:31:07.698107",
          "exception": false,
          "start_time": "2023-02-07T14:31:07.645061",
          "status": "completed"
        },
        "tags": [],
        "id": "615e8639",
        "outputId": "1b90695d-32d0-4f7f-b515-937028f8551c"
      },
      "outputs": [
        {
          "data": {
            "text/html": [
              "<div>\n",
              "<style scoped>\n",
              "    .dataframe tbody tr th:only-of-type {\n",
              "        vertical-align: middle;\n",
              "    }\n",
              "\n",
              "    .dataframe tbody tr th {\n",
              "        vertical-align: top;\n",
              "    }\n",
              "\n",
              "    .dataframe thead th {\n",
              "        text-align: right;\n",
              "    }\n",
              "</style>\n",
              "<table border=\"1\" class=\"dataframe\">\n",
              "  <thead>\n",
              "    <tr style=\"text-align: right;\">\n",
              "      <th></th>\n",
              "      <th>Age</th>\n",
              "      <th>Sex</th>\n",
              "      <th>ChestPainType</th>\n",
              "      <th>RestingBP</th>\n",
              "      <th>Cholesterol</th>\n",
              "      <th>FastingBS</th>\n",
              "      <th>RestingECG</th>\n",
              "      <th>MaxHR</th>\n",
              "      <th>ExerciseAngina</th>\n",
              "      <th>Oldpeak</th>\n",
              "      <th>ST_Slope</th>\n",
              "      <th>HeartDisease</th>\n",
              "    </tr>\n",
              "  </thead>\n",
              "  <tbody>\n",
              "    <tr>\n",
              "      <th>0</th>\n",
              "      <td>40</td>\n",
              "      <td>M</td>\n",
              "      <td>ATA</td>\n",
              "      <td>140</td>\n",
              "      <td>289</td>\n",
              "      <td>0</td>\n",
              "      <td>Normal</td>\n",
              "      <td>172</td>\n",
              "      <td>N</td>\n",
              "      <td>0.0</td>\n",
              "      <td>Up</td>\n",
              "      <td>0</td>\n",
              "    </tr>\n",
              "    <tr>\n",
              "      <th>1</th>\n",
              "      <td>49</td>\n",
              "      <td>F</td>\n",
              "      <td>NAP</td>\n",
              "      <td>160</td>\n",
              "      <td>180</td>\n",
              "      <td>0</td>\n",
              "      <td>Normal</td>\n",
              "      <td>156</td>\n",
              "      <td>N</td>\n",
              "      <td>1.0</td>\n",
              "      <td>Flat</td>\n",
              "      <td>1</td>\n",
              "    </tr>\n",
              "    <tr>\n",
              "      <th>2</th>\n",
              "      <td>37</td>\n",
              "      <td>M</td>\n",
              "      <td>ATA</td>\n",
              "      <td>130</td>\n",
              "      <td>283</td>\n",
              "      <td>0</td>\n",
              "      <td>ST</td>\n",
              "      <td>98</td>\n",
              "      <td>N</td>\n",
              "      <td>0.0</td>\n",
              "      <td>Up</td>\n",
              "      <td>0</td>\n",
              "    </tr>\n",
              "    <tr>\n",
              "      <th>3</th>\n",
              "      <td>48</td>\n",
              "      <td>F</td>\n",
              "      <td>ASY</td>\n",
              "      <td>138</td>\n",
              "      <td>214</td>\n",
              "      <td>0</td>\n",
              "      <td>Normal</td>\n",
              "      <td>108</td>\n",
              "      <td>Y</td>\n",
              "      <td>1.5</td>\n",
              "      <td>Flat</td>\n",
              "      <td>1</td>\n",
              "    </tr>\n",
              "    <tr>\n",
              "      <th>4</th>\n",
              "      <td>54</td>\n",
              "      <td>M</td>\n",
              "      <td>NAP</td>\n",
              "      <td>150</td>\n",
              "      <td>195</td>\n",
              "      <td>0</td>\n",
              "      <td>Normal</td>\n",
              "      <td>122</td>\n",
              "      <td>N</td>\n",
              "      <td>0.0</td>\n",
              "      <td>Up</td>\n",
              "      <td>0</td>\n",
              "    </tr>\n",
              "  </tbody>\n",
              "</table>\n",
              "</div>"
            ],
            "text/plain": [
              "   Age Sex ChestPainType  RestingBP  Cholesterol  FastingBS RestingECG  MaxHR  \\\n",
              "0   40   M           ATA        140          289          0     Normal    172   \n",
              "1   49   F           NAP        160          180          0     Normal    156   \n",
              "2   37   M           ATA        130          283          0         ST     98   \n",
              "3   48   F           ASY        138          214          0     Normal    108   \n",
              "4   54   M           NAP        150          195          0     Normal    122   \n",
              "\n",
              "  ExerciseAngina  Oldpeak ST_Slope  HeartDisease  \n",
              "0              N      0.0       Up             0  \n",
              "1              N      1.0     Flat             1  \n",
              "2              N      0.0       Up             0  \n",
              "3              Y      1.5     Flat             1  \n",
              "4              N      0.0       Up             0  "
            ]
          },
          "execution_count": 4,
          "metadata": {},
          "output_type": "execute_result"
        }
      ],
      "source": [
        "raw_df.head()"
      ]
    },
    {
      "cell_type": "markdown",
      "id": "67388e2a",
      "metadata": {
        "papermill": {
          "duration": 0.017872,
          "end_time": "2023-02-07T14:31:07.736858",
          "exception": false,
          "start_time": "2023-02-07T14:31:07.718986",
          "status": "completed"
        },
        "tags": [],
        "id": "67388e2a"
      },
      "source": [
        "<a id=\"3\"></a>\n",
        "# 3. Data pre-processing"
      ]
    },
    {
      "cell_type": "markdown",
      "id": "23456c56",
      "metadata": {
        "papermill": {
          "duration": 0.018171,
          "end_time": "2023-02-07T14:31:07.773077",
          "exception": false,
          "start_time": "2023-02-07T14:31:07.754906",
          "status": "completed"
        },
        "tags": [],
        "id": "23456c56"
      },
      "source": [
        "<a id=\"3.1\"></a>\n",
        "## 3.1 Data imbalance check"
      ]
    },
    {
      "cell_type": "code",
      "execution_count": null,
      "id": "f034dfea",
      "metadata": {
        "execution": {
          "iopub.execute_input": "2023-02-07T14:31:07.811785Z",
          "iopub.status.busy": "2023-02-07T14:31:07.811233Z",
          "iopub.status.idle": "2023-02-07T14:31:09.367152Z",
          "shell.execute_reply": "2023-02-07T14:31:09.364201Z"
        },
        "papermill": {
          "duration": 1.579619,
          "end_time": "2023-02-07T14:31:09.370562",
          "exception": false,
          "start_time": "2023-02-07T14:31:07.790943",
          "status": "completed"
        },
        "tags": [],
        "id": "f034dfea",
        "outputId": "4b2806bf-1b80-4ba7-ce9e-7b6808c71577"
      },
      "outputs": [
        {
          "data": {
            "text/html": [
              "        <script type=\"text/javascript\">\n",
              "        window.PlotlyConfig = {MathJaxConfig: 'local'};\n",
              "        if (window.MathJax && window.MathJax.Hub && window.MathJax.Hub.Config) {window.MathJax.Hub.Config({SVG: {font: \"STIX-Web\"}});}\n",
              "        if (typeof require !== 'undefined') {\n",
              "        require.undef(\"plotly\");\n",
              "        requirejs.config({\n",
              "            paths: {\n",
              "                'plotly': ['https://cdn.plot.ly/plotly-2.16.1.min']\n",
              "            }\n",
              "        });\n",
              "        require(['plotly'], function(Plotly) {\n",
              "            window._Plotly = Plotly;\n",
              "        });\n",
              "        }\n",
              "        </script>\n",
              "        "
            ]
          },
          "metadata": {},
          "output_type": "display_data"
        },
        {
          "data": {
            "text/html": [
              "<div>                            <div id=\"192dfa40-8f7a-4996-a296-b8adb0e266cc\" class=\"plotly-graph-div\" style=\"height:400px; width:700px;\"></div>            <script type=\"text/javascript\">                require([\"plotly\"], function(Plotly) {                    window.PLOTLYENV=window.PLOTLYENV || {};                                    if (document.getElementById(\"192dfa40-8f7a-4996-a296-b8adb0e266cc\")) {                    Plotly.newPlot(                        \"192dfa40-8f7a-4996-a296-b8adb0e266cc\",                        [{\"domain\":{\"x\":[0.0,1.0],\"y\":[0.0,1.0]},\"hovertemplate\":\"label=%{label}<br>value=%{value}<extra></extra>\",\"labels\":[\"Healthy\",\"Heart Disease\"],\"legendgroup\":\"\",\"name\":\"\",\"showlegend\":true,\"values\":[508,410],\"type\":\"pie\"}],                        {\"template\":{\"data\":{\"histogram2dcontour\":[{\"type\":\"histogram2dcontour\",\"colorbar\":{\"outlinewidth\":0,\"ticks\":\"\"},\"colorscale\":[[0.0,\"#0d0887\"],[0.1111111111111111,\"#46039f\"],[0.2222222222222222,\"#7201a8\"],[0.3333333333333333,\"#9c179e\"],[0.4444444444444444,\"#bd3786\"],[0.5555555555555556,\"#d8576b\"],[0.6666666666666666,\"#ed7953\"],[0.7777777777777778,\"#fb9f3a\"],[0.8888888888888888,\"#fdca26\"],[1.0,\"#f0f921\"]]}],\"choropleth\":[{\"type\":\"choropleth\",\"colorbar\":{\"outlinewidth\":0,\"ticks\":\"\"}}],\"histogram2d\":[{\"type\":\"histogram2d\",\"colorbar\":{\"outlinewidth\":0,\"ticks\":\"\"},\"colorscale\":[[0.0,\"#0d0887\"],[0.1111111111111111,\"#46039f\"],[0.2222222222222222,\"#7201a8\"],[0.3333333333333333,\"#9c179e\"],[0.4444444444444444,\"#bd3786\"],[0.5555555555555556,\"#d8576b\"],[0.6666666666666666,\"#ed7953\"],[0.7777777777777778,\"#fb9f3a\"],[0.8888888888888888,\"#fdca26\"],[1.0,\"#f0f921\"]]}],\"heatmap\":[{\"type\":\"heatmap\",\"colorbar\":{\"outlinewidth\":0,\"ticks\":\"\"},\"colorscale\":[[0.0,\"#0d0887\"],[0.1111111111111111,\"#46039f\"],[0.2222222222222222,\"#7201a8\"],[0.3333333333333333,\"#9c179e\"],[0.4444444444444444,\"#bd3786\"],[0.5555555555555556,\"#d8576b\"],[0.6666666666666666,\"#ed7953\"],[0.7777777777777778,\"#fb9f3a\"],[0.8888888888888888,\"#fdca26\"],[1.0,\"#f0f921\"]]}],\"heatmapgl\":[{\"type\":\"heatmapgl\",\"colorbar\":{\"outlinewidth\":0,\"ticks\":\"\"},\"colorscale\":[[0.0,\"#0d0887\"],[0.1111111111111111,\"#46039f\"],[0.2222222222222222,\"#7201a8\"],[0.3333333333333333,\"#9c179e\"],[0.4444444444444444,\"#bd3786\"],[0.5555555555555556,\"#d8576b\"],[0.6666666666666666,\"#ed7953\"],[0.7777777777777778,\"#fb9f3a\"],[0.8888888888888888,\"#fdca26\"],[1.0,\"#f0f921\"]]}],\"contourcarpet\":[{\"type\":\"contourcarpet\",\"colorbar\":{\"outlinewidth\":0,\"ticks\":\"\"}}],\"contour\":[{\"type\":\"contour\",\"colorbar\":{\"outlinewidth\":0,\"ticks\":\"\"},\"colorscale\":[[0.0,\"#0d0887\"],[0.1111111111111111,\"#46039f\"],[0.2222222222222222,\"#7201a8\"],[0.3333333333333333,\"#9c179e\"],[0.4444444444444444,\"#bd3786\"],[0.5555555555555556,\"#d8576b\"],[0.6666666666666666,\"#ed7953\"],[0.7777777777777778,\"#fb9f3a\"],[0.8888888888888888,\"#fdca26\"],[1.0,\"#f0f921\"]]}],\"surface\":[{\"type\":\"surface\",\"colorbar\":{\"outlinewidth\":0,\"ticks\":\"\"},\"colorscale\":[[0.0,\"#0d0887\"],[0.1111111111111111,\"#46039f\"],[0.2222222222222222,\"#7201a8\"],[0.3333333333333333,\"#9c179e\"],[0.4444444444444444,\"#bd3786\"],[0.5555555555555556,\"#d8576b\"],[0.6666666666666666,\"#ed7953\"],[0.7777777777777778,\"#fb9f3a\"],[0.8888888888888888,\"#fdca26\"],[1.0,\"#f0f921\"]]}],\"mesh3d\":[{\"type\":\"mesh3d\",\"colorbar\":{\"outlinewidth\":0,\"ticks\":\"\"}}],\"scatter\":[{\"fillpattern\":{\"fillmode\":\"overlay\",\"size\":10,\"solidity\":0.2},\"type\":\"scatter\"}],\"parcoords\":[{\"type\":\"parcoords\",\"line\":{\"colorbar\":{\"outlinewidth\":0,\"ticks\":\"\"}}}],\"scatterpolargl\":[{\"type\":\"scatterpolargl\",\"marker\":{\"colorbar\":{\"outlinewidth\":0,\"ticks\":\"\"}}}],\"bar\":[{\"error_x\":{\"color\":\"#2a3f5f\"},\"error_y\":{\"color\":\"#2a3f5f\"},\"marker\":{\"line\":{\"color\":\"#E5ECF6\",\"width\":0.5},\"pattern\":{\"fillmode\":\"overlay\",\"size\":10,\"solidity\":0.2}},\"type\":\"bar\"}],\"scattergeo\":[{\"type\":\"scattergeo\",\"marker\":{\"colorbar\":{\"outlinewidth\":0,\"ticks\":\"\"}}}],\"scatterpolar\":[{\"type\":\"scatterpolar\",\"marker\":{\"colorbar\":{\"outlinewidth\":0,\"ticks\":\"\"}}}],\"histogram\":[{\"marker\":{\"pattern\":{\"fillmode\":\"overlay\",\"size\":10,\"solidity\":0.2}},\"type\":\"histogram\"}],\"scattergl\":[{\"type\":\"scattergl\",\"marker\":{\"colorbar\":{\"outlinewidth\":0,\"ticks\":\"\"}}}],\"scatter3d\":[{\"type\":\"scatter3d\",\"line\":{\"colorbar\":{\"outlinewidth\":0,\"ticks\":\"\"}},\"marker\":{\"colorbar\":{\"outlinewidth\":0,\"ticks\":\"\"}}}],\"scattermapbox\":[{\"type\":\"scattermapbox\",\"marker\":{\"colorbar\":{\"outlinewidth\":0,\"ticks\":\"\"}}}],\"scatterternary\":[{\"type\":\"scatterternary\",\"marker\":{\"colorbar\":{\"outlinewidth\":0,\"ticks\":\"\"}}}],\"scattercarpet\":[{\"type\":\"scattercarpet\",\"marker\":{\"colorbar\":{\"outlinewidth\":0,\"ticks\":\"\"}}}],\"carpet\":[{\"aaxis\":{\"endlinecolor\":\"#2a3f5f\",\"gridcolor\":\"white\",\"linecolor\":\"white\",\"minorgridcolor\":\"white\",\"startlinecolor\":\"#2a3f5f\"},\"baxis\":{\"endlinecolor\":\"#2a3f5f\",\"gridcolor\":\"white\",\"linecolor\":\"white\",\"minorgridcolor\":\"white\",\"startlinecolor\":\"#2a3f5f\"},\"type\":\"carpet\"}],\"table\":[{\"cells\":{\"fill\":{\"color\":\"#EBF0F8\"},\"line\":{\"color\":\"white\"}},\"header\":{\"fill\":{\"color\":\"#C8D4E3\"},\"line\":{\"color\":\"white\"}},\"type\":\"table\"}],\"barpolar\":[{\"marker\":{\"line\":{\"color\":\"#E5ECF6\",\"width\":0.5},\"pattern\":{\"fillmode\":\"overlay\",\"size\":10,\"solidity\":0.2}},\"type\":\"barpolar\"}],\"pie\":[{\"automargin\":true,\"type\":\"pie\"}]},\"layout\":{\"autotypenumbers\":\"strict\",\"colorway\":[\"#636efa\",\"#EF553B\",\"#00cc96\",\"#ab63fa\",\"#FFA15A\",\"#19d3f3\",\"#FF6692\",\"#B6E880\",\"#FF97FF\",\"#FECB52\"],\"font\":{\"color\":\"#2a3f5f\"},\"hovermode\":\"closest\",\"hoverlabel\":{\"align\":\"left\"},\"paper_bgcolor\":\"white\",\"plot_bgcolor\":\"#E5ECF6\",\"polar\":{\"bgcolor\":\"#E5ECF6\",\"angularaxis\":{\"gridcolor\":\"white\",\"linecolor\":\"white\",\"ticks\":\"\"},\"radialaxis\":{\"gridcolor\":\"white\",\"linecolor\":\"white\",\"ticks\":\"\"}},\"ternary\":{\"bgcolor\":\"#E5ECF6\",\"aaxis\":{\"gridcolor\":\"white\",\"linecolor\":\"white\",\"ticks\":\"\"},\"baxis\":{\"gridcolor\":\"white\",\"linecolor\":\"white\",\"ticks\":\"\"},\"caxis\":{\"gridcolor\":\"white\",\"linecolor\":\"white\",\"ticks\":\"\"}},\"coloraxis\":{\"colorbar\":{\"outlinewidth\":0,\"ticks\":\"\"}},\"colorscale\":{\"sequential\":[[0.0,\"#0d0887\"],[0.1111111111111111,\"#46039f\"],[0.2222222222222222,\"#7201a8\"],[0.3333333333333333,\"#9c179e\"],[0.4444444444444444,\"#bd3786\"],[0.5555555555555556,\"#d8576b\"],[0.6666666666666666,\"#ed7953\"],[0.7777777777777778,\"#fb9f3a\"],[0.8888888888888888,\"#fdca26\"],[1.0,\"#f0f921\"]],\"sequentialminus\":[[0.0,\"#0d0887\"],[0.1111111111111111,\"#46039f\"],[0.2222222222222222,\"#7201a8\"],[0.3333333333333333,\"#9c179e\"],[0.4444444444444444,\"#bd3786\"],[0.5555555555555556,\"#d8576b\"],[0.6666666666666666,\"#ed7953\"],[0.7777777777777778,\"#fb9f3a\"],[0.8888888888888888,\"#fdca26\"],[1.0,\"#f0f921\"]],\"diverging\":[[0,\"#8e0152\"],[0.1,\"#c51b7d\"],[0.2,\"#de77ae\"],[0.3,\"#f1b6da\"],[0.4,\"#fde0ef\"],[0.5,\"#f7f7f7\"],[0.6,\"#e6f5d0\"],[0.7,\"#b8e186\"],[0.8,\"#7fbc41\"],[0.9,\"#4d9221\"],[1,\"#276419\"]]},\"xaxis\":{\"gridcolor\":\"white\",\"linecolor\":\"white\",\"ticks\":\"\",\"title\":{\"standoff\":15},\"zerolinecolor\":\"white\",\"automargin\":true,\"zerolinewidth\":2},\"yaxis\":{\"gridcolor\":\"white\",\"linecolor\":\"white\",\"ticks\":\"\",\"title\":{\"standoff\":15},\"zerolinecolor\":\"white\",\"automargin\":true,\"zerolinewidth\":2},\"scene\":{\"xaxis\":{\"backgroundcolor\":\"#E5ECF6\",\"gridcolor\":\"white\",\"linecolor\":\"white\",\"showbackground\":true,\"ticks\":\"\",\"zerolinecolor\":\"white\",\"gridwidth\":2},\"yaxis\":{\"backgroundcolor\":\"#E5ECF6\",\"gridcolor\":\"white\",\"linecolor\":\"white\",\"showbackground\":true,\"ticks\":\"\",\"zerolinecolor\":\"white\",\"gridwidth\":2},\"zaxis\":{\"backgroundcolor\":\"#E5ECF6\",\"gridcolor\":\"white\",\"linecolor\":\"white\",\"showbackground\":true,\"ticks\":\"\",\"zerolinecolor\":\"white\",\"gridwidth\":2}},\"shapedefaults\":{\"line\":{\"color\":\"#2a3f5f\"}},\"annotationdefaults\":{\"arrowcolor\":\"#2a3f5f\",\"arrowhead\":0,\"arrowwidth\":1},\"geo\":{\"bgcolor\":\"white\",\"landcolor\":\"#E5ECF6\",\"subunitcolor\":\"white\",\"showland\":true,\"showlakes\":true,\"lakecolor\":\"white\"},\"title\":{\"x\":0.05},\"mapbox\":{\"style\":\"light\"}}},\"legend\":{\"tracegroupgap\":0},\"title\":{\"text\":\"Healthy vs Heart Disease\"},\"piecolorway\":[\"skyblue\",\"black\"],\"height\":400,\"width\":700},                        {\"responsive\": true}                    ).then(function(){\n",
              "                            \n",
              "var gd = document.getElementById('192dfa40-8f7a-4996-a296-b8adb0e266cc');\n",
              "var x = new MutationObserver(function (mutations, observer) {{\n",
              "        var display = window.getComputedStyle(gd).display;\n",
              "        if (!display || display === 'none') {{\n",
              "            console.log([gd, 'removed!']);\n",
              "            Plotly.purge(gd);\n",
              "            observer.disconnect();\n",
              "        }}\n",
              "}});\n",
              "\n",
              "// Listen for the removal of the full notebook cells\n",
              "var notebookContainer = gd.closest('#notebook-container');\n",
              "if (notebookContainer) {{\n",
              "    x.observe(notebookContainer, {childList: true});\n",
              "}}\n",
              "\n",
              "// Listen for the clearing of the current output cell\n",
              "var outputEl = gd.closest('.output');\n",
              "if (outputEl) {{\n",
              "    x.observe(outputEl, {childList: true});\n",
              "}}\n",
              "\n",
              "                        })                };                });            </script>        </div>"
            ]
          },
          "metadata": {},
          "output_type": "display_data"
        }
      ],
      "source": [
        "labels=[\"Healthy\",\"Heart Disease\"]\n",
        "\n",
        "healthy_or_not = raw_df['HeartDisease'].value_counts().tolist()\n",
        "values = [healthy_or_not[0], healthy_or_not[1]]\n",
        "\n",
        "fig = px.pie(values=raw_df['HeartDisease'].value_counts(), names=labels , width=700, height=400, color_discrete_sequence=[\"skyblue\",\"black\"]\n",
        "             ,title=\"Healthy vs Heart Disease\")\n",
        "fig.show()"
      ]
    },
    {
      "cell_type": "markdown",
      "id": "bc19fa50",
      "metadata": {
        "papermill": {
          "duration": 0.020619,
          "end_time": "2023-02-07T14:31:09.410144",
          "exception": false,
          "start_time": "2023-02-07T14:31:09.389525",
          "status": "completed"
        },
        "tags": [],
        "id": "bc19fa50"
      },
      "source": [
        "We can see that the data is quite well balanced so we don't need to take advantage of undersampling or oversampling techniques."
      ]
    },
    {
      "cell_type": "markdown",
      "id": "6abbd8a8",
      "metadata": {
        "papermill": {
          "duration": 0.018025,
          "end_time": "2023-02-07T14:31:09.447743",
          "exception": false,
          "start_time": "2023-02-07T14:31:09.429718",
          "status": "completed"
        },
        "tags": [],
        "id": "6abbd8a8"
      },
      "source": [
        "<a id=\"3.2\"></a>\n",
        "## 3.2 Checking for outliers"
      ]
    },
    {
      "cell_type": "code",
      "execution_count": null,
      "id": "0d3c543c",
      "metadata": {
        "execution": {
          "iopub.execute_input": "2023-02-07T14:31:09.488262Z",
          "iopub.status.busy": "2023-02-07T14:31:09.487624Z",
          "iopub.status.idle": "2023-02-07T14:31:09.500790Z",
          "shell.execute_reply": "2023-02-07T14:31:09.499166Z"
        },
        "papermill": {
          "duration": 0.036547,
          "end_time": "2023-02-07T14:31:09.503995",
          "exception": false,
          "start_time": "2023-02-07T14:31:09.467448",
          "status": "completed"
        },
        "tags": [],
        "id": "0d3c543c"
      },
      "outputs": [],
      "source": [
        "numerical_columns = list(raw_df.loc[:,['Age', 'RestingBP', 'Cholesterol', 'MaxHR', 'Oldpeak']])\n",
        "categorical_columns = list(raw_df.loc[:,['Sex', 'ChestPainType', 'FastingBS', 'RestingECG', 'ExerciseAngina', 'ST_Slope']])"
      ]
    },
    {
      "cell_type": "code",
      "execution_count": null,
      "id": "45ddd604",
      "metadata": {
        "execution": {
          "iopub.execute_input": "2023-02-07T14:31:09.546680Z",
          "iopub.status.busy": "2023-02-07T14:31:09.546070Z",
          "iopub.status.idle": "2023-02-07T14:31:10.524228Z",
          "shell.execute_reply": "2023-02-07T14:31:10.522234Z"
        },
        "papermill": {
          "duration": 1.002969,
          "end_time": "2023-02-07T14:31:10.527057",
          "exception": false,
          "start_time": "2023-02-07T14:31:09.524088",
          "status": "completed"
        },
        "tags": [],
        "id": "45ddd604",
        "outputId": "3addf5d6-a059-4f22-814c-dd9c9b95a59d"
      },
      "outputs": [
        {
          "data": {
            "image/png": "[encoded data removed]",
            "text/plain": [
              "<Figure size 936x360 with 6 Axes>"
            ]
          },
          "metadata": {
            "needs_background": "light"
          },
          "output_type": "display_data"
        }
      ],
      "source": [
        "# checking boxplots\n",
        "def boxplots_custom(dataset, columns_list, rows, cols, suptitle):\n",
        "    fig, axs = plt.subplots(rows, cols, sharey=True, figsize=(13,5))\n",
        "    fig.suptitle(suptitle,y=1, size=25)\n",
        "    axs = axs.flatten()\n",
        "    for i, data in enumerate(columns_list):\n",
        "        sns.boxplot(data=dataset[data], orient='h', ax=axs[i])\n",
        "        axs[i].set_title(data + ', skewness is: '+str(round(dataset[data].skew(axis = 0, skipna = True),2)))\n",
        "\n",
        "boxplots_custom(dataset=raw_df, columns_list=numerical_columns, rows=2, cols=3, suptitle='Boxplots for each variable')\n",
        "plt.tight_layout()"
      ]
    },
    {
      "cell_type": "markdown",
      "id": "0f7512a0",
      "metadata": {
        "papermill": {
          "duration": 0.01992,
          "end_time": "2023-02-07T14:31:10.568140",
          "exception": false,
          "start_time": "2023-02-07T14:31:10.548220",
          "status": "completed"
        },
        "tags": [],
        "id": "0f7512a0"
      },
      "source": [
        "<a id=\"3.3\"></a>\n",
        "## 3.3 Inter Quartile Range (IQR)"
      ]
    },
    {
      "cell_type": "markdown",
      "id": "aa7f2f16",
      "metadata": {
        "papermill": {
          "duration": 0.020196,
          "end_time": "2023-02-07T14:31:10.609190",
          "exception": false,
          "start_time": "2023-02-07T14:31:10.588994",
          "status": "completed"
        },
        "tags": [],
        "id": "aa7f2f16"
      },
      "source": [
        "Tukey’s (1977) technique is used to detect outliers in skewed or non bell-shaped data since it makes no distributional assumptions. However, Tukey’s method may not be appropriate for a small sample size. The general rule is that anything not in the range of (Q1 - 1.5 IQR) and (Q3 + 1.5 IQR) is an outlier, and can be removed.\n",
        "\n",
        "Inter Quartile Range (IQR) is one of the most extensively used procedure for outlier detection and removal.\n",
        "\n",
        "Procedure:\n",
        "\n",
        "1. Find the first quartile, Q1.\n",
        "2. Find the third quartile, Q3.\n",
        "3. Calculate the IQR. IQR = Q3-Q1.\n",
        "4. Define the normal data range with lower limit as Q1–1.5 IQR and upper limit as Q3+1.5 IQR.\n",
        "\n",
        "For oulier detection methods look here: https://www.kaggle.com/code/marcinrutecki/outlier-detection-methods"
      ]
    },
    {
      "cell_type": "code",
      "execution_count": null,
      "id": "005a96b3",
      "metadata": {
        "execution": {
          "iopub.execute_input": "2023-02-07T14:31:10.650643Z",
          "iopub.status.busy": "2023-02-07T14:31:10.650195Z",
          "iopub.status.idle": "2023-02-07T14:31:10.662437Z",
          "shell.execute_reply": "2023-02-07T14:31:10.660887Z"
        },
        "papermill": {
          "duration": 0.035495,
          "end_time": "2023-02-07T14:31:10.665002",
          "exception": false,
          "start_time": "2023-02-07T14:31:10.629507",
          "status": "completed"
        },
        "tags": [],
        "id": "005a96b3"
      },
      "outputs": [],
      "source": [
        "def IQR_method (df,n,features):\n",
        "    \"\"\"\n",
        "    Takes a dataframe and returns an index list corresponding to the observations\n",
        "    containing more than n outliers according to the Tukey IQR method.\n",
        "    \"\"\"\n",
        "    outlier_list = []\n",
        "\n",
        "    for column in features:\n",
        "        # 1st quartile (25%)\n",
        "        Q1 = np.percentile(df[column], 25)\n",
        "        # 3rd quartile (75%)\n",
        "        Q3 = np.percentile(df[column],75)\n",
        "        # Interquartile range (IQR)\n",
        "        IQR = Q3 - Q1\n",
        "        # outlier step\n",
        "        outlier_step = 1.5 * IQR\n",
        "        # Determining a list of indices of outliers\n",
        "        outlier_list_column = df[(df[column] < Q1 - outlier_step) | (df[column] > Q3 + outlier_step )].index\n",
        "        # appending the list of outliers\n",
        "        outlier_list.extend(outlier_list_column)\n",
        "\n",
        "    # selecting observations containing more than x outliers\n",
        "    outlier_list = Counter(outlier_list)\n",
        "    multiple_outliers = list( k for k, v in outlier_list.items() if v > n )\n",
        "\n",
        "    # Calculate the number of records below and above lower and above bound value respectively\n",
        "    out1 = df[df[column] < Q1 - outlier_step]\n",
        "    out2 = df[df[column] > Q3 + outlier_step]\n",
        "\n",
        "    print('Total number of deleted outliers is:', out1.shape[0]+out2.shape[0])\n",
        "\n",
        "    return multiple_outliers"
      ]
    },
    {
      "cell_type": "markdown",
      "id": "ed4304d9",
      "metadata": {
        "papermill": {
          "duration": 0.019136,
          "end_time": "2023-02-07T14:31:10.703559",
          "exception": false,
          "start_time": "2023-02-07T14:31:10.684423",
          "status": "completed"
        },
        "tags": [],
        "id": "ed4304d9"
      },
      "source": [
        "<a id=\"3.4\"></a>\n",
        "## 3.4 Dropping outliers"
      ]
    },
    {
      "cell_type": "code",
      "execution_count": null,
      "id": "f5739225",
      "metadata": {
        "execution": {
          "iopub.execute_input": "2023-02-07T14:31:10.745820Z",
          "iopub.status.busy": "2023-02-07T14:31:10.744965Z",
          "iopub.status.idle": "2023-02-07T14:31:10.763455Z",
          "shell.execute_reply": "2023-02-07T14:31:10.761807Z"
        },
        "papermill": {
          "duration": 0.044528,
          "end_time": "2023-02-07T14:31:10.767531",
          "exception": false,
          "start_time": "2023-02-07T14:31:10.723003",
          "status": "completed"
        },
        "tags": [],
        "id": "f5739225",
        "outputId": "27d23793-50df-4e43-ab27-0b8ebb669f4a"
      },
      "outputs": [
        {
          "name": "stdout",
          "output_type": "stream",
          "text": [
            "Total number of deleted outliers is: 16\n"
          ]
        }
      ],
      "source": [
        "# detecting outliers\n",
        "Outliers_IQR = IQR_method(raw_df,1,numerical_columns)\n",
        "\n",
        "# dropping outliers\n",
        "df = raw_df.drop(Outliers_IQR, axis = 0).reset_index(drop=True)"
      ]
    },
    {
      "cell_type": "markdown",
      "id": "b9d12939",
      "metadata": {
        "papermill": {
          "duration": 0.019698,
          "end_time": "2023-02-07T14:31:10.809440",
          "exception": false,
          "start_time": "2023-02-07T14:31:10.789742",
          "status": "completed"
        },
        "tags": [],
        "id": "b9d12939"
      },
      "source": [
        "<a id=\"3.5\"></a>\n",
        "## 3.5 Creating dummies"
      ]
    },
    {
      "cell_type": "code",
      "execution_count": null,
      "id": "5d4b1f6b",
      "metadata": {
        "execution": {
          "iopub.execute_input": "2023-02-07T14:31:10.851318Z",
          "iopub.status.busy": "2023-02-07T14:31:10.849714Z",
          "iopub.status.idle": "2023-02-07T14:31:10.869525Z",
          "shell.execute_reply": "2023-02-07T14:31:10.867870Z"
        },
        "papermill": {
          "duration": 0.043717,
          "end_time": "2023-02-07T14:31:10.872565",
          "exception": false,
          "start_time": "2023-02-07T14:31:10.828848",
          "status": "completed"
        },
        "tags": [],
        "id": "5d4b1f6b"
      },
      "outputs": [],
      "source": [
        "df = pd.get_dummies(df, drop_first=True)"
      ]
    },
    {
      "cell_type": "markdown",
      "id": "4bef52ab",
      "metadata": {
        "papermill": {
          "duration": 0.018781,
          "end_time": "2023-02-07T14:31:10.910353",
          "exception": false,
          "start_time": "2023-02-07T14:31:10.891572",
          "status": "completed"
        },
        "tags": [],
        "id": "4bef52ab"
      },
      "source": [
        "<a id=\"3.6\"></a>\n",
        "## 3.6 Train test split"
      ]
    },
    {
      "cell_type": "code",
      "execution_count": null,
      "id": "175ae2ac",
      "metadata": {
        "execution": {
          "iopub.execute_input": "2023-02-07T14:31:10.951567Z",
          "iopub.status.busy": "2023-02-07T14:31:10.950684Z",
          "iopub.status.idle": "2023-02-07T14:31:10.959278Z",
          "shell.execute_reply": "2023-02-07T14:31:10.958083Z"
        },
        "papermill": {
          "duration": 0.032472,
          "end_time": "2023-02-07T14:31:10.961895",
          "exception": false,
          "start_time": "2023-02-07T14:31:10.929423",
          "status": "completed"
        },
        "tags": [],
        "id": "175ae2ac"
      },
      "outputs": [],
      "source": [
        "X = df.drop('HeartDisease', axis=1)\n",
        "y = df['HeartDisease']"
      ]
    },
    {
      "cell_type": "code",
      "execution_count": null,
      "id": "097ef6a8",
      "metadata": {
        "execution": {
          "iopub.execute_input": "2023-02-07T14:31:11.003592Z",
          "iopub.status.busy": "2023-02-07T14:31:11.002704Z",
          "iopub.status.idle": "2023-02-07T14:31:11.016068Z",
          "shell.execute_reply": "2023-02-07T14:31:11.013719Z"
        },
        "papermill": {
          "duration": 0.038262,
          "end_time": "2023-02-07T14:31:11.019714",
          "exception": false,
          "start_time": "2023-02-07T14:31:10.981452",
          "status": "completed"
        },
        "tags": [],
        "id": "097ef6a8"
      },
      "outputs": [],
      "source": [
        "from sklearn.model_selection import train_test_split\n",
        "X_train, X_test, y_train, y_test = train_test_split(X, y, stratify=y, test_size = 0.3, random_state = 42)"
      ]
    },
    {
      "cell_type": "markdown",
      "id": "e497770a",
      "metadata": {
        "papermill": {
          "duration": 0.024324,
          "end_time": "2023-02-07T14:31:11.067581",
          "exception": false,
          "start_time": "2023-02-07T14:31:11.043257",
          "status": "completed"
        },
        "tags": [],
        "id": "e497770a"
      },
      "source": [
        "<a id=\"3.7\"></a>\n",
        "## 3.7 Feature scaling"
      ]
    },
    {
      "cell_type": "code",
      "execution_count": null,
      "id": "dff532d5",
      "metadata": {
        "execution": {
          "iopub.execute_input": "2023-02-07T14:31:11.116357Z",
          "iopub.status.busy": "2023-02-07T14:31:11.115528Z",
          "iopub.status.idle": "2023-02-07T14:31:11.123085Z",
          "shell.execute_reply": "2023-02-07T14:31:11.121820Z"
        },
        "papermill": {
          "duration": 0.034516,
          "end_time": "2023-02-07T14:31:11.125906",
          "exception": false,
          "start_time": "2023-02-07T14:31:11.091390",
          "status": "completed"
        },
        "tags": [],
        "id": "dff532d5"
      },
      "outputs": [],
      "source": [
        "from sklearn.preprocessing import StandardScaler\n",
        "\n",
        "# Creating function for scaling\n",
        "def Standard_Scaler (df, col_names):\n",
        "    features = df[col_names]\n",
        "    scaler = StandardScaler().fit(features.values)\n",
        "    features = scaler.transform(features.values)\n",
        "    df[col_names] = features\n",
        "\n",
        "    return df"
      ]
    },
    {
      "cell_type": "code",
      "execution_count": null,
      "id": "c613bf93",
      "metadata": {
        "execution": {
          "iopub.execute_input": "2023-02-07T14:31:11.168342Z",
          "iopub.status.busy": "2023-02-07T14:31:11.167280Z",
          "iopub.status.idle": "2023-02-07T14:31:11.180483Z",
          "shell.execute_reply": "2023-02-07T14:31:11.179012Z"
        },
        "papermill": {
          "duration": 0.037932,
          "end_time": "2023-02-07T14:31:11.183535",
          "exception": false,
          "start_time": "2023-02-07T14:31:11.145603",
          "status": "completed"
        },
        "tags": [],
        "id": "c613bf93"
      },
      "outputs": [],
      "source": [
        "col_names = numerical_columns\n",
        "X_train = Standard_Scaler (X_train, col_names)\n",
        "X_test = Standard_Scaler (X_test, col_names)"
      ]
    },
    {
      "cell_type": "markdown",
      "id": "d3962cb2",
      "metadata": {
        "papermill": {
          "duration": 0.01876,
          "end_time": "2023-02-07T14:31:11.221364",
          "exception": false,
          "start_time": "2023-02-07T14:31:11.202604",
          "status": "completed"
        },
        "tags": [],
        "id": "d3962cb2"
      },
      "source": [
        "<a id=\"4\"></a>\n",
        "# 4. Model selection"
      ]
    },
    {
      "cell_type": "code",
      "execution_count": null,
      "id": "5446bc04",
      "metadata": {
        "execution": {
          "iopub.execute_input": "2023-02-07T14:31:11.263008Z",
          "iopub.status.busy": "2023-02-07T14:31:11.262559Z",
          "iopub.status.idle": "2023-02-07T14:31:11.963411Z",
          "shell.execute_reply": "2023-02-07T14:31:11.962165Z"
        },
        "papermill": {
          "duration": 0.726099,
          "end_time": "2023-02-07T14:31:11.967200",
          "exception": false,
          "start_time": "2023-02-07T14:31:11.241101",
          "status": "completed"
        },
        "tags": [],
        "id": "5446bc04"
      },
      "outputs": [],
      "source": [
        "from sklearn.ensemble import VotingClassifier\n",
        "from sklearn.ensemble import RandomForestClassifier\n",
        "from sklearn.neighbors import KNeighborsClassifier\n",
        "from sklearn.svm import SVC\n",
        "from sklearn.neural_network import MLPClassifier\n",
        "from sklearn.ensemble import AdaBoostClassifier\n",
        "from sklearn.ensemble import GradientBoostingClassifier\n",
        "from sklearn.ensemble import ExtraTreesClassifier\n",
        "from sklearn.linear_model import LogisticRegression\n",
        "from xgboost import XGBClassifier\n",
        "from catboost import CatBoostClassifier"
      ]
    },
    {
      "cell_type": "code",
      "execution_count": null,
      "id": "50ea2084",
      "metadata": {
        "execution": {
          "iopub.execute_input": "2023-02-07T14:31:12.014571Z",
          "iopub.status.busy": "2023-02-07T14:31:12.013768Z",
          "iopub.status.idle": "2023-02-07T14:31:12.021970Z",
          "shell.execute_reply": "2023-02-07T14:31:12.019962Z"
        },
        "papermill": {
          "duration": 0.036625,
          "end_time": "2023-02-07T14:31:12.025837",
          "exception": false,
          "start_time": "2023-02-07T14:31:11.989212",
          "status": "completed"
        },
        "tags": [],
        "id": "50ea2084"
      },
      "outputs": [],
      "source": [
        "from sklearn.metrics import confusion_matrix, recall_score, precision_score, f1_score, accuracy_score\n",
        "from sklearn.metrics import classification_report"
      ]
    },
    {
      "cell_type": "code",
      "execution_count": null,
      "id": "4245ac01",
      "metadata": {
        "execution": {
          "iopub.execute_input": "2023-02-07T14:31:12.072434Z",
          "iopub.status.busy": "2023-02-07T14:31:12.071576Z",
          "iopub.status.idle": "2023-02-07T14:31:12.085416Z",
          "shell.execute_reply": "2023-02-07T14:31:12.084007Z"
        },
        "papermill": {
          "duration": 0.040593,
          "end_time": "2023-02-07T14:31:12.089308",
          "exception": false,
          "start_time": "2023-02-07T14:31:12.048715",
          "status": "completed"
        },
        "tags": [],
        "id": "4245ac01"
      },
      "outputs": [],
      "source": [
        "estimator = []\n",
        "estimator.append(('Neural Network', MLPClassifier(max_iter = 10000) ))\n",
        "estimator.append(('LogisticRegression', LogisticRegression(solver ='lbfgs', multi_class ='multinomial', max_iter = 200)))\n",
        "estimator.append(('ExtraTreesClassifier', ExtraTreesClassifier() ))\n",
        "estimator.append(('RandomForest', RandomForestClassifier() ))\n",
        "#estimator.append(('KNN', KNeighborsClassifier() ))\n",
        "estimator.append(('SVC', SVC(gamma ='auto', probability = True)))\n",
        "estimator.append(('AdaBoostClassifier', AdaBoostClassifier() ))\n",
        "estimator.append(('GradientBoostingClassifier', GradientBoostingClassifier() ))\n",
        "estimator.append(('XGB', XGBClassifier() ))\n",
        "estimator.append(('CatBoost', CatBoostClassifier(logging_level='Silent') ))"
      ]
    },
    {
      "cell_type": "markdown",
      "id": "0e5e103e",
      "metadata": {
        "papermill": {
          "duration": 0.021398,
          "end_time": "2023-02-07T14:31:12.132035",
          "exception": false,
          "start_time": "2023-02-07T14:31:12.110637",
          "status": "completed"
        },
        "tags": [],
        "id": "0e5e103e"
      },
      "source": [
        "<a id=\"5\"></a>\n",
        "# 5. Voting Classifier with hard voting"
      ]
    },
    {
      "cell_type": "code",
      "execution_count": null,
      "id": "c66988cc",
      "metadata": {
        "execution": {
          "iopub.execute_input": "2023-02-07T14:31:12.177600Z",
          "iopub.status.busy": "2023-02-07T14:31:12.177190Z",
          "iopub.status.idle": "2023-02-07T14:31:31.064951Z",
          "shell.execute_reply": "2023-02-07T14:31:31.063243Z"
        },
        "papermill": {
          "duration": 18.914473,
          "end_time": "2023-02-07T14:31:31.068259",
          "exception": false,
          "start_time": "2023-02-07T14:31:12.153786",
          "status": "completed"
        },
        "tags": [],
        "id": "c66988cc"
      },
      "outputs": [],
      "source": [
        "VC_hard = VotingClassifier(estimators = estimator, voting ='hard')\n",
        "VC_hard.fit(X_train, y_train)\n",
        "y_pred = VC_hard.predict(X_test)"
      ]
    },
    {
      "cell_type": "markdown",
      "id": "24b7e60f",
      "metadata": {
        "papermill": {
          "duration": 0.018602,
          "end_time": "2023-02-07T14:31:31.107172",
          "exception": false,
          "start_time": "2023-02-07T14:31:31.088570",
          "status": "completed"
        },
        "tags": [],
        "id": "24b7e60f"
      },
      "source": [
        "<a id=\"5.1\"></a>\n",
        "## 5.1 Classification report"
      ]
    },
    {
      "cell_type": "code",
      "execution_count": null,
      "id": "211a82be",
      "metadata": {
        "execution": {
          "iopub.execute_input": "2023-02-07T14:31:31.147860Z",
          "iopub.status.busy": "2023-02-07T14:31:31.147248Z",
          "iopub.status.idle": "2023-02-07T14:31:31.161502Z",
          "shell.execute_reply": "2023-02-07T14:31:31.159258Z"
        },
        "papermill": {
          "duration": 0.038372,
          "end_time": "2023-02-07T14:31:31.164549",
          "exception": false,
          "start_time": "2023-02-07T14:31:31.126177",
          "status": "completed"
        },
        "tags": [],
        "id": "211a82be",
        "outputId": "7f398626-8c6d-431c-bf78-f258331dfd2f"
      },
      "outputs": [
        {
          "name": "stdout",
          "output_type": "stream",
          "text": [
            "              precision    recall  f1-score   support\n",
            "\n",
            "           0       0.90      0.87      0.88       122\n",
            "           1       0.90      0.92      0.91       150\n",
            "\n",
            "    accuracy                           0.90       272\n",
            "   macro avg       0.90      0.89      0.90       272\n",
            "weighted avg       0.90      0.90      0.90       272\n",
            "\n"
          ]
        }
      ],
      "source": [
        "print(classification_report(y_test, y_pred))"
      ]
    },
    {
      "cell_type": "markdown",
      "id": "c62914c6",
      "metadata": {
        "papermill": {
          "duration": 0.018879,
          "end_time": "2023-02-07T14:31:31.203130",
          "exception": false,
          "start_time": "2023-02-07T14:31:31.184251",
          "status": "completed"
        },
        "tags": [],
        "id": "c62914c6"
      },
      "source": [
        "<a id=\"5.2\"></a>\n",
        "## 5.2 Confusion matrix"
      ]
    },
    {
      "cell_type": "code",
      "execution_count": null,
      "id": "ec33dc4e",
      "metadata": {
        "execution": {
          "iopub.execute_input": "2023-02-07T14:31:31.244048Z",
          "iopub.status.busy": "2023-02-07T14:31:31.243310Z",
          "iopub.status.idle": "2023-02-07T14:31:31.260624Z",
          "shell.execute_reply": "2023-02-07T14:31:31.258690Z"
        },
        "papermill": {
          "duration": 0.041797,
          "end_time": "2023-02-07T14:31:31.264335",
          "exception": false,
          "start_time": "2023-02-07T14:31:31.222538",
          "status": "completed"
        },
        "tags": [],
        "id": "ec33dc4e",
        "outputId": "9e399c53-2654-4629-b815-d1aecaf78d44"
      },
      "outputs": [
        {
          "name": "stdout",
          "output_type": "stream",
          "text": [
            "[[106  16]\n",
            " [ 12 138]]\n"
          ]
        }
      ],
      "source": [
        "cm = confusion_matrix(y_test, y_pred)\n",
        "\n",
        "VC_hard_Recall = recall_score(y_test, y_pred)\n",
        "VC_hard_Precision = precision_score(y_test, y_pred)\n",
        "VC_hard_f1 = f1_score(y_test, y_pred)\n",
        "VC_hard_accuracy = accuracy_score(y_test, y_pred)\n",
        "\n",
        "print(cm)"
      ]
    },
    {
      "cell_type": "markdown",
      "id": "d1178561",
      "metadata": {
        "papermill": {
          "duration": 0.021117,
          "end_time": "2023-02-07T14:31:31.307353",
          "exception": false,
          "start_time": "2023-02-07T14:31:31.286236",
          "status": "completed"
        },
        "tags": [],
        "id": "d1178561"
      },
      "source": [
        "<a id=\"5.3\"></a>\n",
        "## 5.3 K-Fold Cross-validation"
      ]
    },
    {
      "cell_type": "markdown",
      "id": "d22c1fb6",
      "metadata": {
        "papermill": {
          "duration": 0.022569,
          "end_time": "2023-02-07T14:31:31.353797",
          "exception": false,
          "start_time": "2023-02-07T14:31:31.331228",
          "status": "completed"
        },
        "tags": [],
        "id": "d22c1fb6"
      },
      "source": [
        "Cross-validation is a resampling procedure used to evaluate machine learning models on a limited data sample. The procedure has a single parameter called k that refers to the number of groups that a given data sample is to be split into. As such, the procedure is often called k-fold cross-validation.\n",
        "\n",
        "The purpose of cross–validation is to test the ability of a machine learning model to predict new data."
      ]
    },
    {
      "cell_type": "code",
      "execution_count": null,
      "id": "e9673e81",
      "metadata": {
        "execution": {
          "iopub.execute_input": "2023-02-07T14:31:31.400725Z",
          "iopub.status.busy": "2023-02-07T14:31:31.399238Z",
          "iopub.status.idle": "2023-02-07T14:32:31.567061Z",
          "shell.execute_reply": "2023-02-07T14:32:31.565753Z"
        },
        "papermill": {
          "duration": 60.212864,
          "end_time": "2023-02-07T14:32:31.587869",
          "exception": false,
          "start_time": "2023-02-07T14:31:31.375005",
          "status": "completed"
        },
        "tags": [],
        "id": "e9673e81",
        "outputId": "151be7de-de3a-4569-b86b-88c3cc06cf0a"
      },
      "outputs": [
        {
          "name": "stdout",
          "output_type": "stream",
          "text": [
            "Cross Validation Recall scores are: [0.92857143 0.84285714 0.85714286 0.92753623 0.89855072]\n",
            "Average Cross Validation Recall score:  0.8909316770186336\n",
            "Cross Validation Recall standard deviation:  0.039583896359237175\n"
          ]
        }
      ],
      "source": [
        "from statistics import stdev\n",
        "score = cross_val_score(VC_hard, X_train, y_train, cv=5, scoring='recall')\n",
        "VC_hard_cv_score = score.mean()\n",
        "VC_hard_cv_stdev = stdev(score)\n",
        "print('Cross Validation Recall scores are: {}'.format(score))\n",
        "print('Average Cross Validation Recall score: ', VC_hard_cv_score)\n",
        "print('Cross Validation Recall standard deviation: ', VC_hard_cv_stdev)"
      ]
    },
    {
      "cell_type": "code",
      "execution_count": null,
      "id": "4ded8a3a",
      "metadata": {
        "execution": {
          "iopub.execute_input": "2023-02-07T14:32:31.630828Z",
          "iopub.status.busy": "2023-02-07T14:32:31.629345Z",
          "iopub.status.idle": "2023-02-07T14:32:31.650169Z",
          "shell.execute_reply": "2023-02-07T14:32:31.648973Z"
        },
        "papermill": {
          "duration": 0.045104,
          "end_time": "2023-02-07T14:32:31.653027",
          "exception": false,
          "start_time": "2023-02-07T14:32:31.607923",
          "status": "completed"
        },
        "scrolled": true,
        "tags": [],
        "id": "4ded8a3a",
        "outputId": "bba2c0f2-f127-4750-9e53-718fbc6924e3"
      },
      "outputs": [
        {
          "data": {
            "text/html": [
              "<div>\n",
              "<style scoped>\n",
              "    .dataframe tbody tr th:only-of-type {\n",
              "        vertical-align: middle;\n",
              "    }\n",
              "\n",
              "    .dataframe tbody tr th {\n",
              "        vertical-align: top;\n",
              "    }\n",
              "\n",
              "    .dataframe thead th {\n",
              "        text-align: right;\n",
              "    }\n",
              "</style>\n",
              "<table border=\"1\" class=\"dataframe\">\n",
              "  <thead>\n",
              "    <tr style=\"text-align: right;\">\n",
              "      <th></th>\n",
              "      <th>Voting Classifier</th>\n",
              "      <th>Recall</th>\n",
              "      <th>Precision</th>\n",
              "      <th>F1 Score</th>\n",
              "      <th>Accuracy</th>\n",
              "      <th>Avg CV Recall</th>\n",
              "      <th>Standard Deviation of CV Recall</th>\n",
              "    </tr>\n",
              "  </thead>\n",
              "  <tbody>\n",
              "    <tr>\n",
              "      <th>0</th>\n",
              "      <td>Hard Voting</td>\n",
              "      <td>0.92</td>\n",
              "      <td>0.896104</td>\n",
              "      <td>0.907895</td>\n",
              "      <td>0.897059</td>\n",
              "      <td>0.890932</td>\n",
              "      <td>0.039584</td>\n",
              "    </tr>\n",
              "  </tbody>\n",
              "</table>\n",
              "</div>"
            ],
            "text/plain": [
              "  Voting Classifier  Recall  Precision  F1 Score  Accuracy  Avg CV Recall  \\\n",
              "0       Hard Voting    0.92   0.896104  0.907895  0.897059       0.890932   \n",
              "\n",
              "   Standard Deviation of CV Recall  \n",
              "0                         0.039584  "
            ]
          },
          "execution_count": 22,
          "metadata": {},
          "output_type": "execute_result"
        }
      ],
      "source": [
        "ndf = [(VC_hard_Recall, VC_hard_Precision, VC_hard_f1, VC_hard_accuracy, VC_hard_cv_score, VC_hard_cv_stdev)]\n",
        "\n",
        "VC_hard_score = pd.DataFrame(data = ndf, columns=\n",
        "                        ['Recall','Precision','F1 Score', 'Accuracy', 'Avg CV Recall', 'Standard Deviation of CV Recall'])\n",
        "VC_hard_score.insert(0, 'Voting Classifier', 'Hard Voting')\n",
        "VC_hard_score"
      ]
    },
    {
      "cell_type": "markdown",
      "id": "6e383c36",
      "metadata": {
        "papermill": {
          "duration": 0.020912,
          "end_time": "2023-02-07T14:32:31.694128",
          "exception": false,
          "start_time": "2023-02-07T14:32:31.673216",
          "status": "completed"
        },
        "tags": [],
        "id": "6e383c36"
      },
      "source": [
        "<a id=\"6\"></a>\n",
        "# 6. Voting Classifier with soft voting"
      ]
    },
    {
      "cell_type": "code",
      "execution_count": null,
      "id": "1f25204b",
      "metadata": {
        "execution": {
          "iopub.execute_input": "2023-02-07T14:32:31.736948Z",
          "iopub.status.busy": "2023-02-07T14:32:31.735161Z",
          "iopub.status.idle": "2023-02-07T14:32:49.555157Z",
          "shell.execute_reply": "2023-02-07T14:32:49.553824Z"
        },
        "papermill": {
          "duration": 17.844746,
          "end_time": "2023-02-07T14:32:49.558364",
          "exception": false,
          "start_time": "2023-02-07T14:32:31.713618",
          "status": "completed"
        },
        "tags": [],
        "id": "1f25204b"
      },
      "outputs": [],
      "source": [
        "VC_soft = VotingClassifier(estimators = estimator, voting ='soft')\n",
        "VC_soft.fit(X_train, y_train)\n",
        "y_pred = VC_soft.predict(X_test)"
      ]
    },
    {
      "cell_type": "markdown",
      "id": "ea6e41c0",
      "metadata": {
        "papermill": {
          "duration": 0.019283,
          "end_time": "2023-02-07T14:32:49.597825",
          "exception": false,
          "start_time": "2023-02-07T14:32:49.578542",
          "status": "completed"
        },
        "tags": [],
        "id": "ea6e41c0"
      },
      "source": [
        "<a id=\"6.1\"></a>\n",
        "## Classification report"
      ]
    },
    {
      "cell_type": "code",
      "execution_count": null,
      "id": "3ae84567",
      "metadata": {
        "execution": {
          "iopub.execute_input": "2023-02-07T14:32:49.640699Z",
          "iopub.status.busy": "2023-02-07T14:32:49.640156Z",
          "iopub.status.idle": "2023-02-07T14:32:49.653995Z",
          "shell.execute_reply": "2023-02-07T14:32:49.652220Z"
        },
        "papermill": {
          "duration": 0.039676,
          "end_time": "2023-02-07T14:32:49.657573",
          "exception": false,
          "start_time": "2023-02-07T14:32:49.617897",
          "status": "completed"
        },
        "tags": [],
        "id": "3ae84567",
        "outputId": "be1b0b7b-4d6b-434e-8998-e9153a12a98d"
      },
      "outputs": [
        {
          "name": "stdout",
          "output_type": "stream",
          "text": [
            "              precision    recall  f1-score   support\n",
            "\n",
            "           0       0.90      0.89      0.90       122\n",
            "           1       0.91      0.92      0.92       150\n",
            "\n",
            "    accuracy                           0.91       272\n",
            "   macro avg       0.91      0.91      0.91       272\n",
            "weighted avg       0.91      0.91      0.91       272\n",
            "\n"
          ]
        }
      ],
      "source": [
        "print(classification_report(y_test, y_pred))"
      ]
    },
    {
      "cell_type": "markdown",
      "id": "264f6e21",
      "metadata": {
        "papermill": {
          "duration": 0.020435,
          "end_time": "2023-02-07T14:32:49.698865",
          "exception": false,
          "start_time": "2023-02-07T14:32:49.678430",
          "status": "completed"
        },
        "tags": [],
        "id": "264f6e21"
      },
      "source": [
        "<a id=\"6.2\"></a>\n",
        "## 6.2 Confusion matrix"
      ]
    },
    {
      "cell_type": "code",
      "execution_count": null,
      "id": "8b5cf476",
      "metadata": {
        "execution": {
          "iopub.execute_input": "2023-02-07T14:32:49.740699Z",
          "iopub.status.busy": "2023-02-07T14:32:49.740124Z",
          "iopub.status.idle": "2023-02-07T14:32:49.755427Z",
          "shell.execute_reply": "2023-02-07T14:32:49.754497Z"
        },
        "papermill": {
          "duration": 0.039295,
          "end_time": "2023-02-07T14:32:49.758100",
          "exception": false,
          "start_time": "2023-02-07T14:32:49.718805",
          "status": "completed"
        },
        "tags": [],
        "id": "8b5cf476",
        "outputId": "5a3e9182-3dcb-406b-ffc3-5185628c24ff"
      },
      "outputs": [
        {
          "name": "stdout",
          "output_type": "stream",
          "text": [
            "[[109  13]\n",
            " [ 12 138]]\n"
          ]
        }
      ],
      "source": [
        "cm = confusion_matrix(y_test, y_pred)\n",
        "\n",
        "VC_soft_Recall = recall_score(y_test, y_pred)\n",
        "VC_soft_Precision = precision_score(y_test, y_pred)\n",
        "VC_soft_f1 = f1_score(y_test, y_pred)\n",
        "VC_soft_accuracy = accuracy_score(y_test, y_pred)\n",
        "\n",
        "print(cm)"
      ]
    },
    {
      "cell_type": "markdown",
      "id": "7140bb84",
      "metadata": {
        "papermill": {
          "duration": 0.022149,
          "end_time": "2023-02-07T14:32:49.802073",
          "exception": false,
          "start_time": "2023-02-07T14:32:49.779924",
          "status": "completed"
        },
        "tags": [],
        "id": "7140bb84"
      },
      "source": [
        "<a id=\"6.3\"></a>\n",
        "## 6.3 K-Fold Cross-validation"
      ]
    },
    {
      "cell_type": "code",
      "execution_count": null,
      "id": "f1e7a3ec",
      "metadata": {
        "execution": {
          "iopub.execute_input": "2023-02-07T14:32:49.850982Z",
          "iopub.status.busy": "2023-02-07T14:32:49.850340Z",
          "iopub.status.idle": "2023-02-07T14:33:45.170814Z",
          "shell.execute_reply": "2023-02-07T14:33:45.169833Z"
        },
        "papermill": {
          "duration": 55.348602,
          "end_time": "2023-02-07T14:33:45.173777",
          "exception": false,
          "start_time": "2023-02-07T14:32:49.825175",
          "status": "completed"
        },
        "tags": [],
        "id": "f1e7a3ec"
      },
      "outputs": [],
      "source": [
        "score2 = cross_val_score(VC_soft, X_train, y_train, cv=5, scoring='recall')"
      ]
    },
    {
      "cell_type": "code",
      "execution_count": null,
      "id": "0f5b7fa1",
      "metadata": {
        "execution": {
          "iopub.execute_input": "2023-02-07T14:33:45.220892Z",
          "iopub.status.busy": "2023-02-07T14:33:45.219322Z",
          "iopub.status.idle": "2023-02-07T14:33:45.230903Z",
          "shell.execute_reply": "2023-02-07T14:33:45.229280Z"
        },
        "papermill": {
          "duration": 0.037773,
          "end_time": "2023-02-07T14:33:45.234818",
          "exception": false,
          "start_time": "2023-02-07T14:33:45.197045",
          "status": "completed"
        },
        "tags": [],
        "id": "0f5b7fa1",
        "outputId": "50880c65-edd3-4448-c2ca-5c096a467174"
      },
      "outputs": [
        {
          "name": "stdout",
          "output_type": "stream",
          "text": [
            "Cross Validation Recall scores are: [0.91428571 0.84285714 0.82857143 0.89855072 0.89855072]\n",
            "Average Cross Validation Recall score:  0.8765631469979297\n",
            "Cross Validation Recall standard deviation:  0.0381745955328178\n"
          ]
        }
      ],
      "source": [
        "VC_soft_cv_score = score2.mean()\n",
        "VC_soft_cv_stdev = stdev(score2)\n",
        "\n",
        "print('Cross Validation Recall scores are: {}'.format(score2))\n",
        "print('Average Cross Validation Recall score: ', VC_soft_cv_score)\n",
        "print('Cross Validation Recall standard deviation: ', VC_soft_cv_stdev)"
      ]
    },
    {
      "cell_type": "code",
      "execution_count": null,
      "id": "5710f199",
      "metadata": {
        "execution": {
          "iopub.execute_input": "2023-02-07T14:33:45.286363Z",
          "iopub.status.busy": "2023-02-07T14:33:45.285946Z",
          "iopub.status.idle": "2023-02-07T14:33:45.305198Z",
          "shell.execute_reply": "2023-02-07T14:33:45.303666Z"
        },
        "papermill": {
          "duration": 0.048619,
          "end_time": "2023-02-07T14:33:45.307822",
          "exception": false,
          "start_time": "2023-02-07T14:33:45.259203",
          "status": "completed"
        },
        "tags": [],
        "id": "5710f199",
        "outputId": "55e059a8-b78b-4b0c-db04-faa4b96a1c49"
      },
      "outputs": [
        {
          "data": {
            "text/html": [
              "<div>\n",
              "<style scoped>\n",
              "    .dataframe tbody tr th:only-of-type {\n",
              "        vertical-align: middle;\n",
              "    }\n",
              "\n",
              "    .dataframe tbody tr th {\n",
              "        vertical-align: top;\n",
              "    }\n",
              "\n",
              "    .dataframe thead th {\n",
              "        text-align: right;\n",
              "    }\n",
              "</style>\n",
              "<table border=\"1\" class=\"dataframe\">\n",
              "  <thead>\n",
              "    <tr style=\"text-align: right;\">\n",
              "      <th></th>\n",
              "      <th>Voting Classifier</th>\n",
              "      <th>Recall</th>\n",
              "      <th>Precision</th>\n",
              "      <th>F1 Score</th>\n",
              "      <th>Accuracy</th>\n",
              "      <th>Avg CV Recall</th>\n",
              "      <th>Standard Deviation of CV Recall</th>\n",
              "    </tr>\n",
              "  </thead>\n",
              "  <tbody>\n",
              "    <tr>\n",
              "      <th>0</th>\n",
              "      <td>Soft Voting</td>\n",
              "      <td>0.92</td>\n",
              "      <td>0.913907</td>\n",
              "      <td>0.916944</td>\n",
              "      <td>0.908088</td>\n",
              "      <td>0.876563</td>\n",
              "      <td>0.038175</td>\n",
              "    </tr>\n",
              "  </tbody>\n",
              "</table>\n",
              "</div>"
            ],
            "text/plain": [
              "  Voting Classifier  Recall  Precision  F1 Score  Accuracy  Avg CV Recall  \\\n",
              "0       Soft Voting    0.92   0.913907  0.916944  0.908088       0.876563   \n",
              "\n",
              "   Standard Deviation of CV Recall  \n",
              "0                         0.038175  "
            ]
          },
          "execution_count": 28,
          "metadata": {},
          "output_type": "execute_result"
        }
      ],
      "source": [
        "ndf2 = [(VC_soft_Recall, VC_soft_Precision, VC_soft_f1, VC_soft_accuracy, VC_soft_cv_score, VC_soft_cv_stdev)]\n",
        "\n",
        "VC_soft_score = pd.DataFrame(data = ndf2, columns=\n",
        "                        ['Recall','Precision','F1 Score', 'Accuracy', 'Avg CV Recall', 'Standard Deviation of CV Recall'])\n",
        "VC_soft_score.insert(0, 'Voting Classifier', 'Soft Voting')\n",
        "VC_soft_score"
      ]
    },
    {
      "cell_type": "markdown",
      "id": "f6625839",
      "metadata": {
        "papermill": {
          "duration": 0.02036,
          "end_time": "2023-02-07T14:33:45.348611",
          "exception": false,
          "start_time": "2023-02-07T14:33:45.328251",
          "status": "completed"
        },
        "tags": [],
        "id": "f6625839"
      },
      "source": [
        "<a id=\"7\"></a>\n",
        "## 7. Result comparison"
      ]
    },
    {
      "cell_type": "code",
      "execution_count": null,
      "id": "e12a5390",
      "metadata": {
        "execution": {
          "iopub.execute_input": "2023-02-07T14:33:45.391354Z",
          "iopub.status.busy": "2023-02-07T14:33:45.390346Z",
          "iopub.status.idle": "2023-02-07T14:33:45.411099Z",
          "shell.execute_reply": "2023-02-07T14:33:45.409510Z"
        },
        "papermill": {
          "duration": 0.045092,
          "end_time": "2023-02-07T14:33:45.413800",
          "exception": false,
          "start_time": "2023-02-07T14:33:45.368708",
          "status": "completed"
        },
        "tags": [],
        "id": "e12a5390",
        "outputId": "5b2808b9-e32d-4bda-9b85-8835b344d3ed"
      },
      "outputs": [
        {
          "data": {
            "text/html": [
              "<div>\n",
              "<style scoped>\n",
              "    .dataframe tbody tr th:only-of-type {\n",
              "        vertical-align: middle;\n",
              "    }\n",
              "\n",
              "    .dataframe tbody tr th {\n",
              "        vertical-align: top;\n",
              "    }\n",
              "\n",
              "    .dataframe thead th {\n",
              "        text-align: right;\n",
              "    }\n",
              "</style>\n",
              "<table border=\"1\" class=\"dataframe\">\n",
              "  <thead>\n",
              "    <tr style=\"text-align: right;\">\n",
              "      <th></th>\n",
              "      <th>Voting Classifier</th>\n",
              "      <th>Recall</th>\n",
              "      <th>Precision</th>\n",
              "      <th>F1 Score</th>\n",
              "      <th>Accuracy</th>\n",
              "      <th>Avg CV Recall</th>\n",
              "      <th>Standard Deviation of CV Recall</th>\n",
              "    </tr>\n",
              "  </thead>\n",
              "  <tbody>\n",
              "    <tr>\n",
              "      <th>0</th>\n",
              "      <td>Hard Voting</td>\n",
              "      <td>0.92</td>\n",
              "      <td>0.896104</td>\n",
              "      <td>0.907895</td>\n",
              "      <td>0.897059</td>\n",
              "      <td>0.890932</td>\n",
              "      <td>0.039584</td>\n",
              "    </tr>\n",
              "    <tr>\n",
              "      <th>1</th>\n",
              "      <td>Soft Voting</td>\n",
              "      <td>0.92</td>\n",
              "      <td>0.913907</td>\n",
              "      <td>0.916944</td>\n",
              "      <td>0.908088</td>\n",
              "      <td>0.876563</td>\n",
              "      <td>0.038175</td>\n",
              "    </tr>\n",
              "  </tbody>\n",
              "</table>\n",
              "</div>"
            ],
            "text/plain": [
              "  Voting Classifier  Recall  Precision  F1 Score  Accuracy  Avg CV Recall  \\\n",
              "0       Hard Voting    0.92   0.896104  0.907895  0.897059       0.890932   \n",
              "1       Soft Voting    0.92   0.913907  0.916944  0.908088       0.876563   \n",
              "\n",
              "   Standard Deviation of CV Recall  \n",
              "0                         0.039584  \n",
              "1                         0.038175  "
            ]
          },
          "execution_count": 29,
          "metadata": {},
          "output_type": "execute_result"
        }
      ],
      "source": [
        "predictions = pd.concat([VC_hard_score, VC_soft_score], ignore_index=True, sort=False)\n",
        "predictions.sort_values(by=['Avg CV Recall'], ascending=False)"
      ]
    },
    {
      "cell_type": "markdown",
      "id": "5f86f7e9",
      "metadata": {
        "papermill": {
          "duration": 0.020443,
          "end_time": "2023-02-07T14:33:45.455557",
          "exception": false,
          "start_time": "2023-02-07T14:33:45.435114",
          "status": "completed"
        },
        "tags": [],
        "id": "5f86f7e9"
      },
      "source": [
        "<a id=\"8\"></a>\n",
        "# 8. AUC-ROC Curve for Voting Classifier with soft voting"
      ]
    },
    {
      "cell_type": "markdown",
      "id": "64773e6c",
      "metadata": {
        "papermill": {
          "duration": 0.019824,
          "end_time": "2023-02-07T14:33:45.495753",
          "exception": false,
          "start_time": "2023-02-07T14:33:45.475929",
          "status": "completed"
        },
        "tags": [],
        "id": "64773e6c"
      },
      "source": [
        "#### I present AUC-ROC Curve for Voting Classifier with soft voting, because predict_proba is not available when voting='hard'"
      ]
    },
    {
      "cell_type": "code",
      "execution_count": null,
      "id": "8617b7b3",
      "metadata": {
        "execution": {
          "iopub.execute_input": "2023-02-07T14:33:45.540236Z",
          "iopub.status.busy": "2023-02-07T14:33:45.539644Z",
          "iopub.status.idle": "2023-02-07T14:33:45.551521Z",
          "shell.execute_reply": "2023-02-07T14:33:45.549622Z"
        },
        "papermill": {
          "duration": 0.039049,
          "end_time": "2023-02-07T14:33:45.554995",
          "exception": false,
          "start_time": "2023-02-07T14:33:45.515946",
          "status": "completed"
        },
        "tags": [],
        "id": "8617b7b3",
        "outputId": "6c3f00aa-4fee-44c3-be3e-d400482c031d"
      },
      "outputs": [
        {
          "name": "stdout",
          "output_type": "stream",
          "text": [
            "AUC-ROC Curve for Voting Classifier with soft voting: 0.9067\n"
          ]
        }
      ],
      "source": [
        "from sklearn.metrics import roc_auc_score\n",
        "ROCAUCscore = roc_auc_score(y_test, y_pred)\n",
        "print(f\"AUC-ROC Curve for Voting Classifier with soft voting: {ROCAUCscore:.4f}\")"
      ]
    },
    {
      "cell_type": "code",
      "execution_count": null,
      "id": "2dfb267d",
      "metadata": {
        "execution": {
          "iopub.execute_input": "2023-02-07T14:33:45.599114Z",
          "iopub.status.busy": "2023-02-07T14:33:45.598112Z",
          "iopub.status.idle": "2023-02-07T14:33:45.970246Z",
          "shell.execute_reply": "2023-02-07T14:33:45.968605Z"
        },
        "papermill": {
          "duration": 0.398267,
          "end_time": "2023-02-07T14:33:45.973462",
          "exception": false,
          "start_time": "2023-02-07T14:33:45.575195",
          "status": "completed"
        },
        "tags": [],
        "id": "2dfb267d",
        "outputId": "55e52471-3a46-4afb-9e25-85f3bc60a380"
      },
      "outputs": [
        {
          "data": {
            "image/png": "[encoded data removed]",
            "text/plain": [
              "<Figure size 360x360 with 1 Axes>"
            ]
          },
          "metadata": {
            "needs_background": "light"
          },
          "output_type": "display_data"
        }
      ],
      "source": [
        "y_proba = VC_soft.predict_proba(X_test)\n",
        "\n",
        "from sklearn.metrics import roc_curve\n",
        "from sklearn.metrics import RocCurveDisplay\n",
        "def plot_auc_roc_curve(y_test, y_pred):\n",
        "    fpr, tpr, _ = roc_curve(y_test, y_pred)\n",
        "    roc_display = RocCurveDisplay(fpr=fpr, tpr=tpr).plot()\n",
        "    roc_display.figure_.set_size_inches(5,5)\n",
        "    plt.plot([0, 1], [0, 1], color = 'g')\n",
        "# Plots the ROC curve using the sklearn methods - Good plot\n",
        "plot_auc_roc_curve(y_test, y_proba[:, 1])\n",
        "# Plots the ROC curve using the sklearn methods - Bad plot\n",
        "#plot_sklearn_roc_curve(y_test, y_pred)"
      ]
    },
    {
      "cell_type": "markdown",
      "id": "dedc2014",
      "metadata": {
        "papermill": {
          "duration": 0.024726,
          "end_time": "2023-02-07T14:33:46.022359",
          "exception": false,
          "start_time": "2023-02-07T14:33:45.997633",
          "status": "completed"
        },
        "tags": [],
        "id": "dedc2014"
      },
      "source": [
        "<a id=\"9\"></a>\n",
        "## 9. Precision-Recall Curve (PR curve) for Voting Classifier with soft voting"
      ]
    },
    {
      "cell_type": "markdown",
      "id": "9e1f484c",
      "metadata": {
        "papermill": {
          "duration": 0.026378,
          "end_time": "2023-02-07T14:33:46.073312",
          "exception": false,
          "start_time": "2023-02-07T14:33:46.046934",
          "status": "completed"
        },
        "tags": [],
        "id": "9e1f484c"
      },
      "source": [
        "The precision-recall curve shows the tradeoff between precision and recalls for different thresholds."
      ]
    },
    {
      "cell_type": "code",
      "execution_count": null,
      "id": "f275dad4",
      "metadata": {
        "execution": {
          "iopub.execute_input": "2023-02-07T14:33:46.125315Z",
          "iopub.status.busy": "2023-02-07T14:33:46.124891Z",
          "iopub.status.idle": "2023-02-07T14:33:46.533316Z",
          "shell.execute_reply": "2023-02-07T14:33:46.531662Z"
        },
        "papermill": {
          "duration": 0.437463,
          "end_time": "2023-02-07T14:33:46.536341",
          "exception": false,
          "start_time": "2023-02-07T14:33:46.098878",
          "status": "completed"
        },
        "tags": [],
        "id": "f275dad4",
        "outputId": "f6932156-951d-41fe-82a2-094b7fdc92cf"
      },
      "outputs": [
        {
          "data": {
            "image/png": "[encoded data removed]",
            "text/plain": [
              "<Figure size 432x288 with 1 Axes>"
            ]
          },
          "metadata": {
            "needs_background": "light"
          },
          "output_type": "display_data"
        }
      ],
      "source": [
        "from sklearn.metrics import precision_recall_curve\n",
        "from sklearn.metrics import PrecisionRecallDisplay\n",
        "\n",
        "display = PrecisionRecallDisplay.from_estimator(\n",
        "    VC_soft, X_test, y_test, name=\"Average precision\")\n",
        "_ = display.ax_.set_title(\"Voting Classifier with soft voting\")"
      ]
    },
    {
      "cell_type": "markdown",
      "id": "a78690ad",
      "metadata": {
        "papermill": {
          "duration": 0.024683,
          "end_time": "2023-02-07T14:33:46.587655",
          "exception": false,
          "start_time": "2023-02-07T14:33:46.562972",
          "status": "completed"
        },
        "tags": [],
        "id": "a78690ad"
      },
      "source": [
        "We can clearly see that we need to trade a lot of Precision to achieve better Recall."
      ]
    },
    {
      "cell_type": "markdown",
      "id": "152b779a",
      "metadata": {
        "papermill": {
          "duration": 0.023719,
          "end_time": "2023-02-07T14:33:46.635823",
          "exception": false,
          "start_time": "2023-02-07T14:33:46.612104",
          "status": "completed"
        },
        "tags": [],
        "id": "152b779a"
      },
      "source": [
        "<a id=\"10\"></a>\n",
        "# 10. My other notebooks"
      ]
    },
    {
      "cell_type": "markdown",
      "id": "10ca559f",
      "metadata": {
        "papermill": {
          "duration": 0.024234,
          "end_time": "2023-02-07T14:33:46.685176",
          "exception": false,
          "start_time": "2023-02-07T14:33:46.660942",
          "status": "completed"
        },
        "tags": [],
        "id": "10ca559f"
      },
      "source": [
        "GridSearchCV + KFold CV: The Right Way\n",
        "\n",
        "https://www.kaggle.com/code/marcinrutecki/gridsearchcv-kfold-cv-the-right-way\n",
        "\n",
        "How to create a meaningful EDA\n",
        "\n",
        "https://www.kaggle.com/code/marcinrutecki/how-to-create-a-meaningful-eda\n",
        "\n",
        "SMOTE and Tomek Links for imbalanced data\n",
        "\n",
        "https://www.kaggle.com/code/marcinrutecki/smote-and-tomek-links-for-imbalanced-data\n",
        "\n",
        "Best techniques and metrics for Imbalanced Dataset\n",
        "\n",
        "https://www.kaggle.com/code/marcinrutecki/best-techniques-and-metrics-for-imbalanced-dataset\n",
        "\n",
        "Regression Models Evaluation Metrics\n",
        "\n",
        "https://www.kaggle.com/code/marcinrutecki/regression-models-evaluation-metrics\n",
        "\n",
        "Clustering methods - comprehensive study\n",
        "\n",
        "https://www.kaggle.com/code/marcinrutecki/clustering-methods-comprehensive-study\n",
        "\n",
        "Outlier detection methods!\n",
        "\n",
        "https://www.kaggle.com/code/marcinrutecki/outlier-detection-methods\n",
        "\n",
        "Multicollinearity - detection and remedies\n",
        "\n",
        "https://www.kaggle.com/code/marcinrutecki/multicollinearity-detection-and-remedies"
      ]
    },
    {
      "cell_type": "markdown",
      "id": "4a3f225c",
      "metadata": {
        "papermill": {
          "duration": 0.023925,
          "end_time": "2023-02-07T14:33:46.733508",
          "exception": false,
          "start_time": "2023-02-07T14:33:46.709583",
          "status": "completed"
        },
        "tags": [],
        "id": "4a3f225c"
      },
      "source": [
        "<a id=\"11\"></a>\n",
        "# 11. References"
      ]
    },
    {
      "cell_type": "markdown",
      "id": "89f5db90",
      "metadata": {
        "papermill": {
          "duration": 0.024614,
          "end_time": "2023-02-07T14:33:46.781761",
          "exception": false,
          "start_time": "2023-02-07T14:33:46.757147",
          "status": "completed"
        },
        "tags": [],
        "id": "89f5db90"
      },
      "source": [
        "https://www.geeksforgeeks.org/ml-voting-classifier-using-sklearn/\n",
        "\n",
        "http://rasbt.github.io/mlxtend/user_guide/classifier/EnsembleVoteClassifier/\n",
        "\n",
        "https://medium.com/analytics-vidhya/voting-classifier-in-machine-learning-9534504eba39\n",
        "\n",
        "https://towardsdatascience.com/combine-your-machine-learning-models-with-voting-fa1b42790d84"
      ]
    }
  ],
  "metadata": {
    "kernelspec": {
      "display_name": "Python 3",
      "language": "python",
      "name": "python3"
    },
    "language_info": {
      "codemirror_mode": {
        "name": "ipython",
        "version": 3
      },
      "file_extension": ".py",
      "mimetype": "text/x-python",
      "name": "python",
      "nbconvert_exporter": "python",
      "pygments_lexer": "ipython3",
      "version": "3.7.12"
    },
    "papermill": {
      "default_parameters": {},
      "duration": 173.846503,
      "end_time": "2023-02-07T14:33:47.835505",
      "environment_variables": {},
      "exception": null,
      "input_path": "__notebook__.ipynb",
      "output_path": "__notebook__.ipynb",
      "parameters": {},
      "start_time": "2023-02-07T14:30:53.989002",
      "version": "2.3.4"
    },
    "colab": {
      "provenance": []
    }
  },
  "nbformat": 4,
  "nbformat_minor": 5
}